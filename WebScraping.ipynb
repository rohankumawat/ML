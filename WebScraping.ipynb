{
  "nbformat": 4,
  "nbformat_minor": 0,
  "metadata": {
    "colab": {
      "name": "WebScraping.ipynb",
      "provenance": [],
      "authorship_tag": "ABX9TyM7M97RDnfmtqV7RVOMeLpo",
      "include_colab_link": true
    },
    "kernelspec": {
      "name": "python3",
      "display_name": "Python 3"
    }
  },
  "cells": [
    {
      "cell_type": "markdown",
      "metadata": {
        "id": "view-in-github",
        "colab_type": "text"
      },
      "source": [
        "<a href=\"https://colab.research.google.com/github/rohankumawat/ML/blob/master/WebScraping.ipynb\" target=\"_parent\"><img src=\"https://colab.research.google.com/assets/colab-badge.svg\" alt=\"Open In Colab\"/></a>"
      ]
    },
    {
      "cell_type": "code",
      "metadata": {
        "id": "9Q9oVFlbYfee",
        "colab_type": "code",
        "colab": {}
      },
      "source": [
        "#idea to scrap data\n",
        "\n",
        "from urllib import request      #For downloading data from url\n",
        "from bs4 import BeautifulSoup   #For souping\n",
        "\n",
        "# pointing to url \n",
        "url = 'https://en.wikipedia.org/wiki/Machine_learning'  #any link would work!!!\n",
        "# downloading the html data\n",
        "htmldata = request.urlopen(url)\n",
        "\n",
        "#htmldata.info() will give the info \n",
        "#htmldata.read() #will download data in html format\n",
        "\n",
        "soupdata = BeautifulSoup(htmldata,'html5lib') #html data and html parser \n",
        "# What is HTML parser?? It is a collection of HTML tags that can scrape data from particular tag like h1, html, a, p\n",
        "\n",
        "\n",
        "# now selecting a particular tag for data scrape\n",
        "atagdata=soupdata.findAll('p')  #p or a or h3 or any tag\n",
        "#print(atagdata) \n",
        "\n",
        "\n",
        "#now converting data into string format from HTML format\n",
        "import time\n",
        "mydata=\"\"\n",
        "for i in atagdata:\n",
        "  #print(i)\n",
        "  #print(i.text)\n",
        "  #time.sleep(2)  #giving a time delay\n",
        "  mydata += i.text\n",
        "\n",
        "#print(mydata)"
      ],
      "execution_count": 0,
      "outputs": []
    }
  ]
}