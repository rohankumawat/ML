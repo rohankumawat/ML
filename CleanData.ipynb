{
  "nbformat": 4,
  "nbformat_minor": 0,
  "metadata": {
    "colab": {
      "name": "CleanData.ipynb",
      "provenance": [],
      "collapsed_sections": [],
      "authorship_tag": "ABX9TyM9Z4gl2yl1cvvmbAZ2ggX5",
      "include_colab_link": true
    },
    "kernelspec": {
      "name": "python3",
      "display_name": "Python 3"
    }
  },
  "cells": [
    {
      "cell_type": "markdown",
      "metadata": {
        "id": "view-in-github",
        "colab_type": "text"
      },
      "source": [
        "<a href=\"https://colab.research.google.com/github/rohankumawat/ML/blob/master/CleanData.ipynb\" target=\"_parent\"><img src=\"https://colab.research.google.com/assets/colab-badge.svg\" alt=\"Open In Colab\"/></a>"
      ]
    },
    {
      "cell_type": "code",
      "metadata": {
        "id": "bljqmFAFqBEz",
        "colab_type": "code",
        "colab": {}
      },
      "source": [
        "#idea to scrap data\n",
        "\n",
        "from urllib import request      #For downloading data from url\n",
        "from bs4 import BeautifulSoup   #For souping\n",
        "import time\n",
        "import re                       #importing regular expression\n",
        "\n",
        "# pointing to url \n",
        "url = 'https://en.wikipedia.org/wiki/Machine_learning'  #any link would work!!!\n",
        "# downloading the html data\n",
        "# htmldata = request.urlopen(url)\n",
        "\n",
        "#htmldata.info() will give the info \n",
        "#htmldata.read() #will download data in html format\n",
        "\n",
        "soupdata = BeautifulSoup(htmldata,'html5lib') #html data and html parser \n",
        "# What is HTML parser?? It is a collection of HTML tags that can scrape data from particular tag like h1, html, a, p\n",
        "\n",
        "\n",
        "# now selecting a particular tag for data scrape\n",
        "atagdata=soupdata.findAll('p')  #p or a or h3 or any tag\n",
        "#print(atagdata) \n",
        "\n",
        "\n",
        "#now converting data into string format from HTML format\n",
        "import time\n",
        "mydata=\"\"\n",
        "for i in atagdata:\n",
        "  print(i)\n",
        "  #print(i.text)\n",
        "  #time.sleep(2)  #giving a time delay\n",
        "  mydata += i.text\n",
        "\n",
        "#print(mydata)\n",
        "\n",
        "#Data Cleaning\n",
        "clean_data = re.sub(r'\\[[0-9]*\\]',' ',mydata)  #this will remove 0 or more times number appearing in mydata\n",
        "clean_data1 = re.sub(r'\\s+',' ',clean_data)     #this will remove one or more white spaces with single white space\n",
        "clean_data2 = re.sub(r'[^a-zA-Z]',' ',clean_data1)  #it will remove single character from starting of the line\n",
        "print(clean_data2)\n",
        "print(type(clean_data2))"
      ],
      "execution_count": 0,
      "outputs": []
    },
    {
      "cell_type": "code",
      "metadata": {
        "id": "QTa6n2OItU0W",
        "colab_type": "code",
        "colab": {}
      },
      "source": [
        "#Now lets deal with the string!!"
      ],
      "execution_count": 0,
      "outputs": []
    }
  ]
}