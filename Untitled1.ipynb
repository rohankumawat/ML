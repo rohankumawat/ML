{
  "nbformat": 4,
  "nbformat_minor": 0,
  "metadata": {
    "colab": {
      "name": "Untitled1.ipynb",
      "provenance": [],
      "collapsed_sections": [],
      "authorship_tag": "ABX9TyPJcXyQIovYAZCGKXYuANq8",
      "include_colab_link": true
    },
    "kernelspec": {
      "name": "python3",
      "display_name": "Python 3"
    }
  },
  "cells": [
    {
      "cell_type": "markdown",
      "metadata": {
        "id": "view-in-github",
        "colab_type": "text"
      },
      "source": [
        "<a href=\"https://colab.research.google.com/github/rohankumawat/ML/blob/master/Untitled1.ipynb\" target=\"_parent\"><img src=\"https://colab.research.google.com/assets/colab-badge.svg\" alt=\"Open In Colab\"/></a>"
      ]
    },
    {
      "cell_type": "code",
      "metadata": {
        "id": "jsEW5ZjE7Hl8",
        "colab_type": "code",
        "colab": {}
      },
      "source": [
        "# installing twitter module\n",
        "# !pip install tweepy \n",
        "import tweepy"
      ],
      "execution_count": 0,
      "outputs": []
    },
    {
      "cell_type": "code",
      "metadata": {
        "id": "HD-oo8JW7btH",
        "colab_type": "code",
        "colab": {}
      },
      "source": [
        "#defining variables\n",
        "#consumer_key\n",
        "consumer_key = \"wbL6oJW1FaIft7LlEyS9YDsjr\"\n",
        "consumer_sec = \"Pcqi2o0IwWl5MbPpMMKzjQVluB208G8RDPbnsJVtRoIC5AYpW0\"\n",
        "# access details\n",
        "access_key=\"406512519-wqef3rU59IAg9r5hWinTFbeV1DreskFvLQhs2NYf\"\n",
        "access_secret=\"xvr02tFlXhPrGCknwBFVpHDhdmpwtOfCzAdYAHQWaNyry\""
      ],
      "execution_count": 0,
      "outputs": []
    },
    {
      "cell_type": "code",
      "metadata": {
        "id": "UPBoNzQA9NAt",
        "colab_type": "code",
        "colab": {}
      },
      "source": [
        "# lets connect at first step auth by using consumer access details\n",
        "# dir(tweepy)\n",
        "first_auth = tweepy.OAuthHandler(consumer_key,consumer_sec)"
      ],
      "execution_count": 0,
      "outputs": []
    },
    {
      "cell_type": "code",
      "metadata": {
        "id": "4tgO3glR9Vno",
        "colab_type": "code",
        "colab": {}
      },
      "source": [
        "# now setting second level of auth\n",
        "first_auth.set_access_token(access_key,access_secret)"
      ],
      "execution_count": 0,
      "outputs": []
    },
    {
      "cell_type": "code",
      "metadata": {
        "id": "v9dQatUJ9oh-",
        "colab_type": "code",
        "colab": {}
      },
      "source": [
        "# successfully connected"
      ],
      "execution_count": 0,
      "outputs": []
    },
    {
      "cell_type": "code",
      "metadata": {
        "id": "ImbPqOsf9rzC",
        "colab_type": "code",
        "colab": {}
      },
      "source": [
        "# pointing auth to datastore\n",
        "# storage_api_connect = tweepy.API(first_auth) # now after this step we can browse or search data from tweets\n",
        "storage_api_connect = tweepy.API(first_auth,timeout=10)"
      ],
      "execution_count": 0,
      "outputs": []
    },
    {
      "cell_type": "code",
      "metadata": {
        "id": "ctvoWHrV-Q-s",
        "colab_type": "code",
        "colab": {}
      },
      "source": [
        "# now searching data as req and waiting for reply\n",
        "# first method\n",
        "#tweet_data = storage_api_connect.search('modi',count=25) #either corona or modi or anything!!!\n",
        "#tweet_data\n",
        "# use for loop\n",
        "# for data in tweet_data:\n",
        "#  print(data.text)"
      ],
      "execution_count": 0,
      "outputs": []
    },
    {
      "cell_type": "code",
      "metadata": {
        "id": "p3m3d9mU-d15",
        "colab_type": "code",
        "colab": {
          "base_uri": "https://localhost:8080/",
          "height": 1000
        },
        "outputId": "7bd3415a-abdc-4cb1-8279-c762fa7a0b83"
      },
      "source": [
        "# second method\n",
        "search_data=[\"facebook\"] #search list #facebook or corona or modi or anything\n",
        "list_of_tweets=[] #tweet data store\n",
        "\n",
        "if len(search_data) == 1:\n",
        "  for tweetdata in tweepy.Cursor(storage_api_connect.search,q=search_data[0]+\" -filter:retweets\",lang='en',result_type='recent').items(100):\n",
        "    list_of_tweets.append(tweetdata.text)\n",
        "    print(tweetdata.text)\n",
        "#print(list_of_tweets)"
      ],
      "execution_count": 21,
      "outputs": [
        {
          "output_type": "stream",
          "text": [
            "Corona Workout Day 4!!!  https://t.co/81BERiz5Qd\n",
            "Kindly follow MyGov India page on Facebook for any Covid19 related news, announcement or query.\n",
            "👉https://t.co/u8tkwkeSg5\n",
            "@josephfell2 Thanks for your reply. We have responded to your message on Facebook. Thanks\n",
            "@KittyBeary624 @amtraxVA ya but your support and interaction with my page on Facebook is truly appreciated\n",
            "The drama continues. Gary &amp; Jeff: Rapscallion Train Drivers.\n",
            "\n",
            "Hop on over to my Facebook page for gripping moments… https://t.co/UVCROzXtRl\n",
            "Here is some excellent information from those on the ground here working with Covid-19 patients. https://t.co/FfcPSAL6D9\n",
            "Our service will be available on YouTube and Facebook at 10:00 this Sunday.\n",
            "\n",
            "#ActLoveWalk #Church #God #Jesus… https://t.co/wAaNm192P3\n",
            "Post by Dr @KritiMaroli about her experience just trying to get tested for #coronavirusindia  - that too in NCR, an… https://t.co/GReQMbkspM\n",
            "Like many other small businesses, all of our in-person purchasing options are closed for the time being.\n",
            "\n",
            "BUT you c… https://t.co/7wUUPihsoh\n",
            "Wish you fast recovery sir  https://t.co/hgF8fOVngm\n",
            "You made my night complete 🥺♥️ @BenAndBenMusic ♥️♥️♥️♥️ I just watched your free concert on Facebook ♥️♥️\n",
            "I've also created a Robin Hood discussion group on Facebook. https://t.co/DMnMOHx7if (I know with some of their act… https://t.co/kFMgcp8V3M\n",
            "Pres. Bolsonaro's call for Brazil to get back to work now made official in gov commercial called \"Brazil can't stop… https://t.co/rYdbQfIKox\n",
            "Our RESILIENCE edition is now available! We kicked off our week-long digital launch celebration last night! Catch t… https://t.co/7mOQYk0ehT\n",
            "Support Local Family Business  https://t.co/XaIEHpyzHv\n",
            "@BBCMaryam @Ocado Maryam – if you get really stuck, you could contact the mutual aid group in their area and I'm su… https://t.co/WIL1BX8PqR\n",
            "A LOOK ON THE SERVICE OF THE UP COMMUNITY IN THE FIGHT AGAINST COVID-19\n",
            "\n",
            "This is to honor the dedicated, fearless m… https://t.co/iotWSEKw32\n",
            "Hi everyone. Today, Chester Zoo are doing a virtual zoo day where you can watch the animals live from your home. Ju… https://t.co/QSt4JilE2x\n",
            "People really bored out here. I’ve gotten too many friend request, I’m about to delete Facebook.\n",
            "Ok here is a link to one of our songs  https://t.co/3pq2JpazCa  hope you like it https://t.co/4PC3bX6Sm9\n",
            "@Facebook my Facebook account has been hacked please do my help to recover the same.\n",
            "@FelixMuellerKN https://t.co/Arvf9Mhb21\n",
            "\n",
            "Have fun!\n",
            "https://t.co/jhGVq4sbwJ\n",
            "\n",
            "Helloooo, kindly react “❤️” and share the actual post, it will be a great help. 🙏🏻🙏🏻🙏🏻🙏🏻 Thank you!\n",
            "@foxandfriends @ainsleyearhardt good analogy I saw on facebook! https://t.co/NWoZcOpave\n",
            "@GhostMaxz @Datgreatnigga Go live. Twitter live, Instagram live, Facebook live just go live I will be there\n",
            "@35mmPapi I know I need a starter soon, yet Facebook keeps the shein ads in my face. I never get, “here’s a sale on… https://t.co/bhPl6lsBxv\n",
            "Viruses thrive in pre-cancerous conditions of lungs damaged by pollution: https://t.co/g4iqaACq4P 5/\n",
            "More over on my Facebook but we’re making FGR’s stadium and one of our Stroud buildings available to the NHS if the… https://t.co/3hTwheh2cJ\n",
            "@Facebook Hi, my account was hacked last night using an access code. I tried to secure my account and created a new… https://t.co/MKCvSDjG1C\n",
            "Different Ways of Cord Cutting\n",
            "\n",
            "https://t.co/hED1E3OSDi\n",
            "\n",
            "#reiki #reikihealing #reikidistancehealing #holyfirereiki… https://t.co/fcrUpyLqgK\n",
            "People are on facebook quoting bill gates of all people u niggas are fkn stupid man\n",
            "Morning!  Playing some Borderlands 3 with my wife!\n",
            "\n",
            "https://t.co/oKj1EoVArR\n",
            "\n",
            "#Wife #Borderlands #Borderlands3 #RPG… https://t.co/GBrqvjblWw\n",
            "Dr. Ackerman will be back today! Check out SADS Foundation on Facebook for another “Ask the Experts” live edition a… https://t.co/dSIaRmvqTl\n",
            "For middle aged dad’s on Facebook saying Coronavirus is a chinese bio-weapon. Scientists have analysed it and they… https://t.co/d8h31Txr8P\n",
            "@sanjeevsanyal Some more suggestions https://t.co/CuCz39hqrM   @ShekharGupta\n",
            "@adambloomie2 i literally have nothing else to do. https://t.co/wRzcoIdiHN\n",
            "On slow days, I change my Facebook relationship status to \"extremely taboo but technically legal\".\n",
            "@AmFamJean Love running to Jesus music. Have you tuned in to the free concerts on Facebook/Instagram this week? Mic… https://t.co/FZRoV1rmw9\n",
            "Love the videos!  Don’t forget to keep checking Nappanee Elementary School’s Facebook page for the latest video.  https://t.co/Y8iQAG9HaG\n",
            "A doctor friend put this on Facebook yesterday. Said it was one of the coolest things he ever experienced. https://t.co/ILYoPhgFbs\n",
            "And I know they know because it was put in the mutual aid facebook group and at least one of their \"leaders\" liked… https://t.co/XrsvJPKXqW\n",
            "Instagram Login By Facebook https://t.co/5hXI2O9Iy9 https://t.co/2aXQNXJSZR\n",
            "Give a  #FF shoutout to some one in board gaming that has helped get you through quarantine. \n",
            "@pgh_gamer… https://t.co/9niCP39KOw\n",
            "Stay current about the latest curbside service updates. Like and follow the #ButlerCounty #Ohio #Foodies page.… https://t.co/0VM82oEPVk\n",
            "@MikeFOX29\n",
            "@AlexHolleyFOX29\n",
            "Have you seen this???? \n",
            "https://t.co/v8bRYvByWz\n",
            "Atlanta cheers medical workers at shift change 😭😭😭😭😭\n",
            "https://t.co/tEikIUSfpO\n",
            "Missed @BenAndBenMusic's #BenAndBenPuhonFBLive? Watch it here: https://t.co/6021LqXtUP https://t.co/0RUUggxMFM\n",
            "64% of people say they'd prefer to message a business on @Facebook rather than call. 📱Is your business prepared for… https://t.co/vW7vJUOytj\n",
            "@koryodynasty They should sue telegram for letting like this happened to his app. Just like facebook about the hacking breach.\n",
            "@IcyGurll Facebook shit\n",
            "Today's FB live (episode 52) will cover the burning topic..\n",
            "\n",
            "Is China responsible for the #coronavirus pandemic? We… https://t.co/SNxqZ61A1d\n",
            "Theatre Art Life (@theatreartlife) has presented an opportunity to gain FREE access to its wonderful archive of art… https://t.co/CMiRozpDDw\n",
            "@basketcase1969 @rajan_shankara @bardoin80 @chuckwoolery That’s interesting how a Facebook post became fact. But: https://t.co/S3rNno1btK\n",
            "How can you make your #dropshiping products stand out from the competition? Funnels can help!\n",
            "Follow the link for t… https://t.co/R4dhW1P8W6\n",
            "Its virtual party time! Go check out some stuff that's happening today! We just dropped our roundup live! (… https://t.co/YXPi6H0aty\n",
            "https://t.co/gmAYmaHOOX\n",
            "Failure of Super power https://t.co/RDpwuS3Wfh\n",
            "Wow, we got a retweet from the woman herself - how exciting! 🤩Hope you all joined her for the free dance lesson. If… https://t.co/nzvjWxPAnu\n",
            "As a global pandemic takes hold, more people are turning to Facebook in search of news about the coronavirus. Users… https://t.co/Kl4RIePCHG\n",
            "Join us tonight on the AFE Foundation Facebook Page at 9:15 pm EST to reflect and remember. #endAFE #AFE… https://t.co/9zVONHpOL9\n",
            "Jump on Facebook live tonight at 5 p.m. to watch the live concert of Soul Grind and be a part of our first virtual… https://t.co/hQUiv0125W\n",
            "@zahranc Unfortunately,There is no ha ha react in twitter like Facebook😢\n",
            "Join us on FB as well and share your #Fitness / #Wellness journey! NEW group!! https://t.co/8UrOGUhOoI https://t.co/nCDzAmSoCO\n",
            "Have you ever seen the postings on Facebook?  These ill-informed, perhaps uneducated are MILITANTLY supporting this… https://t.co/FDbOGph65g\n",
            "Are you following our #Facebook page? #Follow us to keep up to date with the latest Care Group news and events. 😉… https://t.co/YSZ9BcTKW6\n",
            "How many calories do you need? Read the full article here https://t.co/w4F6S5HtZS #nutrition #health #wellness… https://t.co/ROtiblIuSc\n",
            "Man, 22, due to appear at Southend Magistrates' Court today charged with several drugs-related offences… https://t.co/G8NMgC8oOq\n",
            "Tune in to watch our new show ‘Dulexe’ tonight on @Sadlers_Wells Facebook live stream. 7:30pm GMT https://t.co/thVTRpVZ1p\n",
            "facebook saw it first🤪 https://t.co/YyqVxtQTPb\n",
            "@Twittar4T @amandaknox @lifeafterten @MonicaLewinsky Imagine a world where Facebook is your main account, where at… https://t.co/L2hz7XmiI9\n",
            "Twitter has become the new Facebook I hope you’re happy with yourselves\n",
            "happy lurking pos and your family.reports made all information copy anything happends to me or property all you are… https://t.co/raTRtBRHAs\n",
            "A friend of mine posted this on Facebook and I wanted to share it! I’m curious what current / former students would… https://t.co/rY7hHwqg5B\n",
            "'Best lockdown pick-me-up’: Chester Zoo streams live virtual tour https://t.co/s24O2jwHRB\n",
            "WhatsApp ➡️ Instagram ⬇️\n",
            "\n",
            "⬆️  Facebook   ⬅️   twitter\n",
            "Coach Perry heading to hospital in a few minutes https://t.co/FA0q5wNKFt #PrayForCoachPerry\n",
            "So I got a 30 day ban a while back for “bullying” on Facebook for this. She was a troll that paid far too much atte… https://t.co/Mbp2plE418\n",
            "@MoCA_GoI Dear Sir\n",
            "\n",
            "Make My trip may Fraud by not refunding the amount of the cancelled flights.Earlier many facebo… https://t.co/nhjKzPTSCj\n",
            "Hey SBortho fam! During these tough times we want to highlight small businesses. We are giving out a $25 gift card… https://t.co/yzgkz2NRTU\n",
            "@munitheband Live concert on facebook pleaseeee 🥺🥺🥺\n",
            "📍Important update about travel from #Georgia to the #UK \n",
            "\n",
            "All details here: 👇🏻 \n",
            "\n",
            "https://t.co/tslpumNHHD\n",
            "\n",
            "#Covid19\n",
            "Thank u so much for your support! THE BATTLE OF INCHEON reached 1.000 streamings on Youtube! Keep following me and… https://t.co/OVpiBXqCKJ\n",
            "Let us join Pope Francis on Friday, 27 March, at 6 PM Rome time (Saturday, 28 March, at 1 AM Philippine time) for a… https://t.co/yrH5HCQTq3\n",
            "@_ayeshiadavice lol my cousin bm still call him by his Facebook name\n",
            "@GhostofShirgar @NotShirgar This photo is just something being shared on facebook though, not the media.\n",
            "I have been contacted by a number of factory workers who feel they their employers are not taking necessary steps t… https://t.co/nPWLEbOgBQ\n",
            "no one:\n",
            " aunties on facebook quotes: https://t.co/Fa6UaHPKwt\n",
            "Install Mobile Facebook App https://t.co/gEKGafYLT3 https://t.co/0XPiAhMGnw\n",
            "go back to fucking facebook boomer we don’t need your negativity here https://t.co/7CXyRckAdx\n",
            "Akame Ga Kill! – Esdeath Cosplay\n",
            "\n",
            "Cosplay from BlondieeGaming\n",
            "\n",
            "https://t.co/WHT7biDkKz – https://t.co/NWr3UCMYbO\n",
            "De… https://t.co/HVLOkp6wXK\n",
            "Voice of Reason ⁦@BillGates⁩  https://t.co/ZBhke5a3PI\n",
            "@ErwannGuti @TheNewsWorlde @DrihmouM @francoiseclote @Conflits_FR Facebook be like\n",
            "Pennsylvania leaks those unemployment claims Trump asked states to 'keep quiet.' They're terrifyin https://t.co/nyVgS0ZVd2\n",
            "D.C. Bloom - Waitin' On Redemption Day https://t.co/trH8xQbqm6 https://t.co/s7YfPDQkB8\n",
            "🐑🐑 SALE UPDATE 🐑🐑\n",
            "Due to the ongoing Covid-19 situation and after a lot of discussions with Kivvels unfortunately t… https://t.co/hWidmuNuB5\n",
            "@iamsteveeola @ikkyBellz Oga y u copy my guy post from Facebook na\n",
            "@CBSThisMorning @ChanZuckerberg @gatesfoundation @GayleKing Was fined 5 BILLION by the federal trade commission whi… https://t.co/Er7P3k4YTG\n",
            "Due to current events, our annual #ArtsFest has had to be postponed, but why don't we take a look back at last year… https://t.co/mZIymjfV4N\n",
            "Facebook and Google stand to lose $44 billion in ad revenue this year due to COVID-19, according to estimates. https://t.co/Zcy0ulD4pR\n",
            "@SilentCries85 @forfucksakexx If you were in London I would pick some bits up for you... have you tried a local Facebook group? 💚\n",
            "If you fancy some escapism this Sunday, Treacle Market is going virtual so no matter where you live, you can visit!… https://t.co/vO9rVzjImE\n"
          ],
          "name": "stdout"
        }
      ]
    }
  ]
}